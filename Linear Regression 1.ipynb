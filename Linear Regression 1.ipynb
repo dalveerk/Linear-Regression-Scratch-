{
 "cells": [
  {
   "cell_type": "markdown",
   "id": "52b95663",
   "metadata": {},
   "source": [
    "\n",
    "Student Id: 500208166\n",
    "Name:Dalveer Kaur Jassal\n"
   ]
  },
  {
   "cell_type": "code",
   "execution_count": 1,
   "id": "3d5c0b86",
   "metadata": {},
   "outputs": [],
   "source": [
    "%matplotlib inline\n",
    "import pandas as pd\n",
    "import numpy as np\n",
    "import matplotlib.pyplot as plt\n",
    "import math "
   ]
  },
  {
   "cell_type": "code",
   "execution_count": 2,
   "id": "70900b3e",
   "metadata": {},
   "outputs": [],
   "source": [
    "ds=pd.read_csv('datanew.csv')"
   ]
  },
  {
   "cell_type": "code",
   "execution_count": 3,
   "id": "bd9dd9dd",
   "metadata": {},
   "outputs": [
    {
     "data": {
      "text/html": [
       "<div>\n",
       "<style scoped>\n",
       "    .dataframe tbody tr th:only-of-type {\n",
       "        vertical-align: middle;\n",
       "    }\n",
       "\n",
       "    .dataframe tbody tr th {\n",
       "        vertical-align: top;\n",
       "    }\n",
       "\n",
       "    .dataframe thead th {\n",
       "        text-align: right;\n",
       "    }\n",
       "</style>\n",
       "<table border=\"1\" class=\"dataframe\">\n",
       "  <thead>\n",
       "    <tr style=\"text-align: right;\">\n",
       "      <th></th>\n",
       "      <th>x</th>\n",
       "      <th>y</th>\n",
       "    </tr>\n",
       "  </thead>\n",
       "  <tbody>\n",
       "    <tr>\n",
       "      <th>0</th>\n",
       "      <td>0</td>\n",
       "      <td>12.30257</td>\n",
       "    </tr>\n",
       "    <tr>\n",
       "      <th>1</th>\n",
       "      <td>1</td>\n",
       "      <td>20.19440</td>\n",
       "    </tr>\n",
       "    <tr>\n",
       "      <th>2</th>\n",
       "      <td>2</td>\n",
       "      <td>53.47424</td>\n",
       "    </tr>\n",
       "    <tr>\n",
       "      <th>3</th>\n",
       "      <td>3</td>\n",
       "      <td>60.52269</td>\n",
       "    </tr>\n",
       "    <tr>\n",
       "      <th>4</th>\n",
       "      <td>4</td>\n",
       "      <td>61.85855</td>\n",
       "    </tr>\n",
       "    <tr>\n",
       "      <th>5</th>\n",
       "      <td>5</td>\n",
       "      <td>70.42899</td>\n",
       "    </tr>\n",
       "    <tr>\n",
       "      <th>6</th>\n",
       "      <td>6</td>\n",
       "      <td>86.55053</td>\n",
       "    </tr>\n",
       "    <tr>\n",
       "      <th>7</th>\n",
       "      <td>7</td>\n",
       "      <td>54.28762</td>\n",
       "    </tr>\n",
       "    <tr>\n",
       "      <th>8</th>\n",
       "      <td>8</td>\n",
       "      <td>69.02268</td>\n",
       "    </tr>\n",
       "    <tr>\n",
       "      <th>9</th>\n",
       "      <td>9</td>\n",
       "      <td>100.46990</td>\n",
       "    </tr>\n",
       "    <tr>\n",
       "      <th>10</th>\n",
       "      <td>10</td>\n",
       "      <td>106.92440</td>\n",
       "    </tr>\n",
       "    <tr>\n",
       "      <th>11</th>\n",
       "      <td>11</td>\n",
       "      <td>115.73680</td>\n",
       "    </tr>\n",
       "    <tr>\n",
       "      <th>12</th>\n",
       "      <td>12</td>\n",
       "      <td>74.14187</td>\n",
       "    </tr>\n",
       "    <tr>\n",
       "      <th>13</th>\n",
       "      <td>13</td>\n",
       "      <td>126.52210</td>\n",
       "    </tr>\n",
       "    <tr>\n",
       "      <th>14</th>\n",
       "      <td>14</td>\n",
       "      <td>119.94320</td>\n",
       "    </tr>\n",
       "    <tr>\n",
       "      <th>15</th>\n",
       "      <td>15</td>\n",
       "      <td>139.90980</td>\n",
       "    </tr>\n",
       "    <tr>\n",
       "      <th>16</th>\n",
       "      <td>16</td>\n",
       "      <td>133.76490</td>\n",
       "    </tr>\n",
       "    <tr>\n",
       "      <th>17</th>\n",
       "      <td>17</td>\n",
       "      <td>152.98180</td>\n",
       "    </tr>\n",
       "    <tr>\n",
       "      <th>18</th>\n",
       "      <td>18</td>\n",
       "      <td>157.53150</td>\n",
       "    </tr>\n",
       "    <tr>\n",
       "      <th>19</th>\n",
       "      <td>19</td>\n",
       "      <td>164.23070</td>\n",
       "    </tr>\n",
       "    <tr>\n",
       "      <th>20</th>\n",
       "      <td>20</td>\n",
       "      <td>130.21530</td>\n",
       "    </tr>\n",
       "    <tr>\n",
       "      <th>21</th>\n",
       "      <td>21</td>\n",
       "      <td>136.05190</td>\n",
       "    </tr>\n",
       "    <tr>\n",
       "      <th>22</th>\n",
       "      <td>22</td>\n",
       "      <td>160.70530</td>\n",
       "    </tr>\n",
       "    <tr>\n",
       "      <th>23</th>\n",
       "      <td>23</td>\n",
       "      <td>184.73240</td>\n",
       "    </tr>\n",
       "    <tr>\n",
       "      <th>24</th>\n",
       "      <td>24</td>\n",
       "      <td>152.87350</td>\n",
       "    </tr>\n",
       "    <tr>\n",
       "      <th>25</th>\n",
       "      <td>25</td>\n",
       "      <td>164.47650</td>\n",
       "    </tr>\n",
       "    <tr>\n",
       "      <th>26</th>\n",
       "      <td>26</td>\n",
       "      <td>169.64880</td>\n",
       "    </tr>\n",
       "    <tr>\n",
       "      <th>27</th>\n",
       "      <td>27</td>\n",
       "      <td>187.07670</td>\n",
       "    </tr>\n",
       "    <tr>\n",
       "      <th>28</th>\n",
       "      <td>28</td>\n",
       "      <td>174.13970</td>\n",
       "    </tr>\n",
       "    <tr>\n",
       "      <th>29</th>\n",
       "      <td>29</td>\n",
       "      <td>217.33140</td>\n",
       "    </tr>\n",
       "    <tr>\n",
       "      <th>30</th>\n",
       "      <td>30</td>\n",
       "      <td>198.05070</td>\n",
       "    </tr>\n",
       "  </tbody>\n",
       "</table>\n",
       "</div>"
      ],
      "text/plain": [
       "     x          y\n",
       "0    0   12.30257\n",
       "1    1   20.19440\n",
       "2    2   53.47424\n",
       "3    3   60.52269\n",
       "4    4   61.85855\n",
       "5    5   70.42899\n",
       "6    6   86.55053\n",
       "7    7   54.28762\n",
       "8    8   69.02268\n",
       "9    9  100.46990\n",
       "10  10  106.92440\n",
       "11  11  115.73680\n",
       "12  12   74.14187\n",
       "13  13  126.52210\n",
       "14  14  119.94320\n",
       "15  15  139.90980\n",
       "16  16  133.76490\n",
       "17  17  152.98180\n",
       "18  18  157.53150\n",
       "19  19  164.23070\n",
       "20  20  130.21530\n",
       "21  21  136.05190\n",
       "22  22  160.70530\n",
       "23  23  184.73240\n",
       "24  24  152.87350\n",
       "25  25  164.47650\n",
       "26  26  169.64880\n",
       "27  27  187.07670\n",
       "28  28  174.13970\n",
       "29  29  217.33140\n",
       "30  30  198.05070"
      ]
     },
     "execution_count": 3,
     "metadata": {},
     "output_type": "execute_result"
    }
   ],
   "source": [
    "ds\n"
   ]
  },
  {
   "cell_type": "code",
   "execution_count": 4,
   "id": "d9ae9d83",
   "metadata": {},
   "outputs": [
    {
     "name": "stdout",
     "output_type": "stream",
     "text": [
      "5.59785576612903\n"
     ]
    }
   ],
   "source": [
    "X=ds['x']\n",
    "Y=ds['y']\n",
    "#Calculating slope\n",
    "m=(sum(X*Y)-(Y.mean()*sum(X)))/(sum(X*X)-(X.mean()*sum(X)))\n",
    "print(m)"
   ]
  },
  {
   "cell_type": "markdown",
   "id": "7eb060f2",
   "metadata": {},
   "source": [
    "slope=5.597855"
   ]
  },
  {
   "cell_type": "code",
   "execution_count": 75,
   "id": "07183085",
   "metadata": {},
   "outputs": [
    {
     "name": "stdout",
     "output_type": "stream",
     "text": [
      "37.196726088709724\n"
     ]
    }
   ],
   "source": [
    "#Calculating intercept\n",
    "b=Y.mean()-m*X.mean()\n",
    "print(b)\n",
    "Y1=m*X+b\n",
    "residual=Y1-Y\n"
   ]
  },
  {
   "cell_type": "markdown",
   "id": "bc23b2de",
   "metadata": {},
   "source": [
    "intercept=37.1967"
   ]
  },
  {
   "cell_type": "code",
   "execution_count": 69,
   "id": "3a5ce57f",
   "metadata": {},
   "outputs": [
    {
     "data": {
      "image/png": "[encoded data removed]",
      "text/plain": [
       "<Figure size 432x288 with 1 Axes>"
      ]
     },
     "metadata": {
      "needs_background": "light"
     },
     "output_type": "display_data"
    }
   ],
   "source": [
    "plt.plot(Y,'o',color='blue',label=\"original data\")\n",
    "plt.plot(Y1,label=\"predicted value\")\n",
    "plt.plot(residual,'o',label=\"residuals\")\n",
    "rankedr=residual.sort_values(ascending=True).values\n",
    "plt.plot(rankedr,color=\"brown\",label=\"ranked residual\")\n",
    "plt.legend()\n",
    "plt.title(\"interesting graph\")\n",
    "plt.savefig(\"linearreg.jpg\")\n",
    "plt.show()\n"
   ]
  },
  {
   "cell_type": "code",
   "execution_count": 37,
   "id": "f23aca7f",
   "metadata": {},
   "outputs": [
    {
     "data": {
      "text/plain": [
       "<matplotlib.legend.Legend at 0x2381aee9b50>"
      ]
     },
     "execution_count": 37,
     "metadata": {},
     "output_type": "execute_result"
    },
    {
     "data": {
      "image/png": "[encoded data removed]",
      "text/plain": [
       "<Figure size 432x288 with 1 Axes>"
      ]
     },
     "metadata": {
      "needs_background": "light"
     },
     "output_type": "display_data"
    }
   ],
   "source": [
    "rankedr=residual.sort_values(ascending=True).values\n",
    "plt.plot(rankedr,'o',color=\"red\",label=\"ranked residual\")\n",
    "plt.legend()"
   ]
  },
  {
   "cell_type": "code",
   "execution_count": 59,
   "id": "0240a382",
   "metadata": {},
   "outputs": [
    {
     "data": {
      "text/plain": [
       "0.9053485579430408"
      ]
     },
     "execution_count": 59,
     "metadata": {},
     "output_type": "execute_result"
    }
   ],
   "source": [
    "#Determination coefficient\n",
    "R2=(sum((Y1-Y.mean())**2))/sum((Y-Y.mean())**2) \n",
    "R2\n"
   ]
  },
  {
   "cell_type": "markdown",
   "id": "d80eb1f3",
   "metadata": {},
   "source": [
    "Determination coefficient = 0.90534855"
   ]
  },
  {
   "cell_type": "code",
   "execution_count": 60,
   "id": "7a4010a1",
   "metadata": {},
   "outputs": [
    {
     "data": {
      "text/plain": [
       "0.9514980598735032"
      ]
     },
     "execution_count": 60,
     "metadata": {},
     "output_type": "execute_result"
    }
   ],
   "source": [
    "#Correlation coefficient\n",
    "R=math.sqrt(R2)\n",
    "R"
   ]
  },
  {
   "cell_type": "markdown",
   "id": "5bc8faab",
   "metadata": {},
   "source": [
    "correlation coefficient=0.95149"
   ]
  },
  {
   "cell_type": "code",
   "execution_count": 61,
   "id": "8e88411f",
   "metadata": {},
   "outputs": [
    {
     "data": {
      "text/plain": [
       "262.0865997294174"
      ]
     },
     "execution_count": 61,
     "metadata": {},
     "output_type": "execute_result"
    }
   ],
   "source": [
    "#mean square residual\n",
    "MSR=sum((Y1-Y)**2)/len(Y)\n",
    "MSR"
   ]
  },
  {
   "cell_type": "markdown",
   "id": "2fbd1328",
   "metadata": {},
   "source": [
    "mean square residual= 262.086599"
   ]
  },
  {
   "cell_type": "code",
   "execution_count": 62,
   "id": "d13b21ee",
   "metadata": {},
   "outputs": [
    {
     "data": {
      "text/plain": [
       "16.189088909800248"
      ]
     },
     "execution_count": 62,
     "metadata": {},
     "output_type": "execute_result"
    }
   ],
   "source": [
    "#root mean square error\n",
    "RMSE=math.sqrt(MSR)\n",
    "RMSE"
   ]
  },
  {
   "cell_type": "markdown",
   "id": "e8cc3326",
   "metadata": {},
   "source": [
    "RMSE=16.189088"
   ]
  },
  {
   "cell_type": "markdown",
   "id": "f8f2e784",
   "metadata": {},
   "source": [
    "As observed from above analysis:The regression fit line seems to be best line for the data  and all the accuracy metrics are also fair for the above data"
   ]
  },
  {
   "cell_type": "markdown",
   "id": "36946ccc",
   "metadata": {},
   "source": [
    "# Now when we will make intercept(b)=0"
   ]
  },
  {
   "cell_type": "code",
   "execution_count": 71,
   "id": "3bc6b74c",
   "metadata": {},
   "outputs": [
    {
     "data": {
      "image/png": "[encoded data removed]",
      "text/plain": [
       "<Figure size 432x288 with 1 Axes>"
      ]
     },
     "metadata": {
      "needs_background": "light"
     },
     "output_type": "display_data"
    }
   ],
   "source": [
    "Y1new=m*X\n",
    "residual1=Y1new-Y\n",
    "residualsort=residual1.sort_values(ascending=True).values\n",
    "plt.plot(Y,'o',color='blue',label=\"original data\")\n",
    "plt.plot(Y1new,label=\"predicted value\")\n",
    "plt.plot(residual1,'o',label=\"residuals\")\n",
    "plt.plot(residualsort,label=\"ranked residual\")\n",
    "plt.title(\"interesting graph\")\n",
    "plt.legend()\n",
    "plt.savefig('linearreg1.jpg')\n",
    "plt.show()\n"
   ]
  },
  {
   "cell_type": "code",
   "execution_count": 73,
   "id": "12495d3e",
   "metadata": {},
   "outputs": [
    {
     "data": {
      "text/plain": [
       "1.405028425674632"
      ]
     },
     "execution_count": 73,
     "metadata": {},
     "output_type": "execute_result"
    }
   ],
   "source": [
    "R2new=sum((Y1new-Y.mean())**2)/sum((Y-Y.mean())**2)\n",
    "R2new"
   ]
  },
  {
   "cell_type": "code",
   "execution_count": 65,
   "id": "ef19d079",
   "metadata": {},
   "outputs": [
    {
     "data": {
      "text/plain": [
       "1.1853389496994655"
      ]
     },
     "execution_count": 65,
     "metadata": {},
     "output_type": "execute_result"
    }
   ],
   "source": [
    "Rnew=math.sqrt(R2new)\n",
    "Rnew"
   ]
  },
  {
   "cell_type": "markdown",
   "id": "c83f8cf2",
   "metadata": {},
   "source": [
    "As observed from above that if the value of intercept becomes zero then whole regression line shifts and ignores the data points"
   ]
  },
  {
   "cell_type": "code",
   "execution_count": null,
   "id": "530a809a",
   "metadata": {},
   "outputs": [],
   "source": []
  }
 ],
 "metadata": {
  "kernelspec": {
   "display_name": "Python 3 (ipykernel)",
   "language": "python",
   "name": "python3"
  },
  "language_info": {
   "codemirror_mode": {
    "name": "ipython",
    "version": 3
   },
   "file_extension": ".py",
   "mimetype": "text/x-python",
   "name": "python",
   "nbconvert_exporter": "python",
   "pygments_lexer": "ipython3",
   "version": "3.9.12"
  }
 },
 "nbformat": 4,
 "nbformat_minor": 5
}
